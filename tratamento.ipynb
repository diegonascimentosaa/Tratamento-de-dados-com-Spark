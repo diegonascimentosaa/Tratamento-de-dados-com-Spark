{
 "cells": [
  {
   "cell_type": "code",
   "execution_count": 5,
   "id": "515f3fb0",
   "metadata": {},
   "outputs": [],
   "source": [
    "#Biblioteca para localizar a instalação do Spark no sistema e iniciae o Spark\n",
    "import findspark\n",
    "findspark.init()\n",
    "import pyspark\n",
    "#Gerenciar sessões do Spark\n",
    "from pyspark.sql import SparkSession\n",
    "#Funções do Spark SQL\n",
    "from pyspark.sql.functions import *\n",
    "#Tipos de dados do Spark SQL,\n",
    "from pyspark.sql.types import *\n",
    "from pyspark.sql.functions import to_timestamp\n"
   ]
  },
  {
   "cell_type": "code",
   "execution_count": 6,
   "id": "587b1d39",
   "metadata": {},
   "outputs": [],
   "source": [
    "#Criando uma instância do SparkSession\n",
    "spark = (pyspark.sql.SparkSession.builder \\\n",
    "        .appName(\"Tratamento\") \\\n",
    "        .getOrCreate())"
   ]
  },
  {
   "cell_type": "code",
   "execution_count": 9,
   "id": "589a5dbb",
   "metadata": {},
   "outputs": [
    {
     "name": "stdout",
     "output_type": "stream",
     "text": [
      "+-------------------+-----+----+----------+---------+------+---------------+-------+-------------------------+--------------------+--------------+------------------------------+----------+\n",
      "|               date|state|city|place_type|confirmed|deaths|order_for_place|is_last|estimated_population_2019|estimated_population|city_ibge_code|confirmed_per_100k_inhabitants|death_rate|\n",
      "+-------------------+-----+----+----------+---------+------+---------------+-------+-------------------------+--------------------+--------------+------------------------------+----------+\n",
      "|2022-03-27 00:00:00|   AP|null|     state|   160328|  2122|            734|   true|                   845731|              861773|            16|                   18604.43527|    0.0132|\n",
      "|2022-03-26 00:00:00|   AP|null|     state|   160321|  2122|            733|  false|                   845731|              861773|            16|                     18603.623|    0.0132|\n",
      "|2022-03-25 00:00:00|   AP|null|     state|   160314|  2122|            732|  false|                   845731|              861773|            16|                   18602.81072|    0.0132|\n",
      "|2022-03-24 00:00:00|   AP|null|     state|   160301|  2122|            731|  false|                   845731|              861773|            16|                    18601.3022|    0.0132|\n",
      "|2022-03-23 00:00:00|   AP|null|     state|   160288|  2122|            730|  false|                   845731|              861773|            16|                   18599.79368|    0.0132|\n",
      "|2022-03-22 00:00:00|   AP|null|     state|   160275|  2122|            729|  false|                   845731|              861773|            16|                   18598.28516|    0.0132|\n",
      "|2022-03-21 00:00:00|   AP|null|     state|   160265|  2120|            728|  false|                   845731|              861773|            16|                   18597.12476|    0.0132|\n",
      "|2022-03-20 00:00:00|   AP|null|     state|   160260|  2120|            727|  false|                   845731|              861773|            16|                   18596.54457|    0.0132|\n",
      "|2022-03-19 00:00:00|   AP|null|     state|   160258|  2120|            726|  false|                   845731|              861773|            16|                   18596.31249|    0.0132|\n",
      "|2022-03-18 00:00:00|   AP|null|     state|   160255|  2120|            725|  false|                   845731|              861773|            16|                   18595.96437|    0.0132|\n",
      "|2022-03-17 00:00:00|   AP|null|     state|   160248|  2119|            724|  false|                   845731|              861773|            16|                   18595.15209|    0.0132|\n",
      "|2022-03-16 00:00:00|   AP|null|     state|   160221|  2119|            723|  false|                   845731|              861773|            16|                   18592.01901|    0.0132|\n",
      "|2022-03-15 00:00:00|   AP|null|     state|   160217|  2119|            722|  false|                   845731|              861773|            16|                   18591.55485|    0.0132|\n",
      "|2022-03-14 00:00:00|   AP|null|     state|   160211|  2119|            721|  false|                   845731|              861773|            16|                   18590.85861|    0.0132|\n",
      "|2022-03-13 00:00:00|   AP|null|     state|   160210|  2118|            720|  false|                   845731|              861773|            16|                   18590.74257|    0.0132|\n",
      "|2022-03-12 00:00:00|   AP|null|     state|   160205|  2118|            719|  false|                   845731|              861773|            16|                   18590.16237|    0.0132|\n",
      "|2022-03-11 00:00:00|   AP|null|     state|   160202|  2118|            718|  false|                   845731|              861773|            16|                   18589.81426|    0.0132|\n",
      "|2022-03-10 00:00:00|   AP|null|     state|   160198|  2116|            717|  false|                   845731|              861773|            16|                    18589.3501|    0.0132|\n",
      "|2022-03-09 00:00:00|   AP|null|     state|   160169|  2116|            716|  false|                   845731|              861773|            16|                   18585.98494|    0.0132|\n",
      "|2022-03-08 00:00:00|   AP|null|     state|   160149|  2113|            715|  false|                   845731|              861773|            16|                   18583.66414|    0.0132|\n",
      "+-------------------+-----+----+----------+---------+------+---------------+-------+-------------------------+--------------------+--------------+------------------------------+----------+\n",
      "only showing top 20 rows\n",
      "\n"
     ]
    }
   ],
   "source": [
    "#Lendo o arquivo csv e retonando um objeto DataFrame\n",
    "df = spark.read.csv(\"caso.csv\", header=True, encoding='ISO-8859-1',inferSchema=True)"
   ]
  },
  {
   "cell_type": "code",
   "execution_count": null,
   "id": "ec13905d",
   "metadata": {},
   "outputs": [],
   "source": []
  },
  {
   "cell_type": "code",
   "execution_count": 27,
   "id": "4785f2d9",
   "metadata": {
    "scrolled": true
   },
   "outputs": [],
   "source": [
    "df = df.withColumnRenamed(\"ID_unico_cliente\",\"ID_UNICO_CLIENTE\") \\\n",
    "     .withColumnRenamed(\"cidade\",\"CIDADE\") \\\n",
    "     .withColumnRenamed(\"estado\",\"ESTADO\") \\\n",
    "     .withColumnRenamed(\"ID_Pedido\",\"ID_PEDIDO\") \\\n",
    "     .withColumnRenamed(\"status_pedido\",\"STATUS_PEDIDO\") \\\n",
    "     .withColumnRenamed(\"ID_item_pedido\",\"ID_ITEM_PEDIDO\") \\\n",
    "     .withColumnRenamed(\"ID_produto\",\"ID_PRODUTO\") \\\n",
    "     .withColumnRenamed(\"preco\",\"PRECO\") \\\n",
    "     .withColumnRenamed(\"frete\",\"FRETE\") \\\n",
    "     .withColumnRenamed(\"categoria_produto\",\"CATEGORIA_PRODUTO\") "
   ]
  },
  {
   "cell_type": "code",
   "execution_count": 29,
   "id": "2ec7d642",
   "metadata": {},
   "outputs": [],
   "source": [
    "# Definindo os tipos das colunas\n",
    "df = df.withColumn(\"DATA_PEDIDO\", to_timestamp(\"DATA_PEDIDO\", \"yyyy-MM-dd HH:mm:ss\")) \\\n",
    "       .withColumn(\"DATA_APROVACAO\", to_timestamp(\"DATA_APROVACAO\", \"yyyy-MM-dd HH:mm:ss\")) \\\n",
    "       .withColumn(\"DATA_ENTREGA\", to_timestamp(\"DATA_ENTREGA\", \"yyyy-MM-dd HH:mm:ss\")) \\\n",
    "       .withColumn(\"DATA_ENTREGA_ESTIMADA\", to_date(\"DATA_ENTREGA_ESTIMADA\", \"yyyy-MM-dd\")) \\\n",
    "       .withColumn(\"QTD_FOTOS_PRODUTO\", col(\"qtd_fotos_produto\").cast(\"integer\")) \\\n",
    "       .withColumn(\"AVALIACAO_COMPRA\", col(\"avaliacao_compra\").cast(\"integer\")) \n"
   ]
  },
  {
   "cell_type": "code",
   "execution_count": 30,
   "id": "14707002",
   "metadata": {
    "scrolled": true
   },
   "outputs": [
    {
     "name": "stdout",
     "output_type": "stream",
     "text": [
      "root\n",
      " |-- ID_UNICO_CLIENTE: string (nullable = true)\n",
      " |-- CIDADE: string (nullable = true)\n",
      " |-- ESTADO: string (nullable = true)\n",
      " |-- ID_PEDIDO: string (nullable = true)\n",
      " |-- STATUS_PEDIDO: string (nullable = true)\n",
      " |-- DATA_PEDIDO: timestamp (nullable = true)\n",
      " |-- DATA_APROVACAO: timestamp (nullable = true)\n",
      " |-- DATA_ENTREGA: timestamp (nullable = true)\n",
      " |-- DATA_ENTREGA_ESTIMADA: date (nullable = true)\n",
      " |-- ID_ITEM_PEDIDO: integer (nullable = true)\n",
      " |-- ID_PRODUTO: string (nullable = true)\n",
      " |-- PRECO: double (nullable = true)\n",
      " |-- FRETE: double (nullable = true)\n",
      " |-- CATEGORIA_PRODUTO: string (nullable = true)\n",
      " |-- QTD_FOTOS_PRODUTO: integer (nullable = true)\n",
      " |-- AVALIACAO_COMPRA: integer (nullable = true)\n",
      "\n"
     ]
    }
   ],
   "source": [
    "df.printSchema()"
   ]
  },
  {
   "cell_type": "code",
   "execution_count": 31,
   "id": "b0ca486b",
   "metadata": {},
   "outputs": [],
   "source": [
    "df_dim_cliente = df.select(\"ID_UNICO_CLIENTE\",\"CIDADE\",\"ESTADO\")\n",
    "df_dim_produto = df.select(\"ID_PRODUTO\",\"CATEGORIA_PRODUTO\",\"QTD_FOTOS_PRODUTO\")\n",
    "df_ft_pedido = df.select(\"ID_UNICO_CLIENTE\",\"ID_PRODUTO\",\"ID_PEDIDO\",\"STATUS_PEDIDO\",\"DATA_PEDIDO\",\"DATA_APROVACAO\",\"DATA_ENTREGA\",\"DATA_ENTREGA_ESTIMADA\",\"PRECO\",\"FRETE\")"
   ]
  },
  {
   "cell_type": "code",
   "execution_count": 32,
   "id": "496b1c25",
   "metadata": {},
   "outputs": [],
   "source": [
    "df_dim_cliente = df_dim_cliente.dropDuplicates([\"ID_UNICO_CLIENTE\"])\n",
    "df_dim_produto = df_dim_produto.dropDuplicates([\"ID_PRODUTO\"])"
   ]
  },
  {
   "cell_type": "code",
   "execution_count": 35,
   "id": "ca6ae4c4",
   "metadata": {},
   "outputs": [],
   "source": [
    "#Inserindo DataFrame no BD\n",
    "df_dim_cliente.write \\\n",
    "    .format(\"jdbc\") \\\n",
    "    .option(\"url\", \"jdbc:mysql://localhost:3306/MOSI\") \\\n",
    "    .option(\"driver\",\"com.mysql.cj.jdbc.Driver\") \\\n",
    "    .option(\"dbtable\", \"DIM_CLIENTE\") \\\n",
    "    .option(\"user\", \"Diego\") \\\n",
    "    .option(\"password\", \"iuZ5XZxakXHzBG0e\") \\\n",
    "    .mode(\"append\") \\\n",
    "    .save()"
   ]
  },
  {
   "cell_type": "code",
   "execution_count": 37,
   "id": "ece95fff",
   "metadata": {},
   "outputs": [],
   "source": [
    "#Inserindo DataFrame no BD\n",
    "df_dim_produto.write \\\n",
    "    .format(\"jdbc\") \\\n",
    "    .option(\"url\", \"jdbc:mysql://localhost:3306/MOSI\") \\\n",
    "    .option(\"driver\",\"com.mysql.cj.jdbc.Driver\") \\\n",
    "    .option(\"dbtable\", \"DIM_PRODUTO\") \\\n",
    "    .option(\"user\", \"Diego\") \\\n",
    "    .option(\"password\", \"iuZ5XZxakXHzBG0e\") \\\n",
    "    .mode(\"append\") \\\n",
    "    .save()"
   ]
  },
  {
   "cell_type": "code",
   "execution_count": null,
   "id": "0ae9003f",
   "metadata": {},
   "outputs": [],
   "source": [
    "#Inserindo DataFrame no BD\n",
    "df_ft_pedido.write \\\n",
    "    .format(\"jdbc\") \\\n",
    "    .option(\"url\", \"jdbc:mysql://localhost:3306/MOSI\") \\\n",
    "    .option(\"driver\",\"com.mysql.cj.jdbc.Driver\") \\\n",
    "    .option(\"dbtable\", \"FT_PEDIDO\") \\\n",
    "    .option(\"user\", \"Diego\") \\\n",
    "    .option(\"password\", \"iuZ5XZxakXHzBG0e\") \\\n",
    "    .mode(\"append\") \\\n",
    "    .save()"
   ]
  }
 ],
 "metadata": {
  "kernelspec": {
   "display_name": "Python 3 (ipykernel)",
   "language": "python",
   "name": "python3"
  },
  "language_info": {
   "codemirror_mode": {
    "name": "ipython",
    "version": 3
   },
   "file_extension": ".py",
   "mimetype": "text/x-python",
   "name": "python",
   "nbconvert_exporter": "python",
   "pygments_lexer": "ipython3",
   "version": "3.11.3"
  }
 },
 "nbformat": 4,
 "nbformat_minor": 5
}
