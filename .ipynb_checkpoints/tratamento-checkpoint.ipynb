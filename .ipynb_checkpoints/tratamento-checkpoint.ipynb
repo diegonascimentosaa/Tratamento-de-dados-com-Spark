{
 "cells": [
  {
   "cell_type": "code",
   "execution_count": 2,
   "id": "515f3fb0",
   "metadata": {},
   "outputs": [],
   "source": [
    "#Biblioteca para localizar a instalação do Spark no sistema e iniciae o Spark\n",
    "import findspark\n",
    "findspark.init()\n",
    "import pyspark\n",
    "#Gerenciar sessões do Spark\n",
    "from pyspark.sql import SparkSession\n",
    "#Funções do Spark SQL\n",
    "from pyspark.sql.functions import *\n",
    "#Tipos de dados do Spark SQL,\n",
    "from pyspark.sql.types import *\n",
    "from pyspark.sql.functions import to_timestamp\n"
   ]
  },
  {
   "cell_type": "code",
   "execution_count": 3,
   "id": "587b1d39",
   "metadata": {},
   "outputs": [],
   "source": [
    "#Criando uma instância do SparkSession\n",
    "spark = (pyspark.sql.SparkSession.builder \\\n",
    "        .appName(\"Tratamento\") \\\n",
    "        .getOrCreate())"
   ]
  },
  {
   "cell_type": "code",
   "execution_count": 4,
   "id": "589a5dbb",
   "metadata": {},
   "outputs": [],
   "source": [
    "#Lendo o arquivo csv e retonando um objeto DataFrame\n",
    "df = spark.read.csv(\"caso.csv\", header=True, encoding='ISO-8859-1',inferSchema=True)"
   ]
  },
  {
   "cell_type": "code",
   "execution_count": 5,
   "id": "14707002",
   "metadata": {
    "scrolled": false
   },
   "outputs": [
    {
     "name": "stdout",
     "output_type": "stream",
     "text": [
      "root\n",
      " |-- date: timestamp (nullable = true)\n",
      " |-- state: string (nullable = true)\n",
      " |-- city: string (nullable = true)\n",
      " |-- place_type: string (nullable = true)\n",
      " |-- confirmed: integer (nullable = true)\n",
      " |-- deaths: integer (nullable = true)\n",
      " |-- order_for_place: integer (nullable = true)\n",
      " |-- is_last: boolean (nullable = true)\n",
      " |-- estimated_population_2019: integer (nullable = true)\n",
      " |-- estimated_population: integer (nullable = true)\n",
      " |-- city_ibge_code: integer (nullable = true)\n",
      " |-- confirmed_per_100k_inhabitants: double (nullable = true)\n",
      " |-- death_rate: double (nullable = true)\n",
      "\n"
     ]
    }
   ],
   "source": [
    "df.printSchema()"
   ]
  },
  {
   "cell_type": "code",
   "execution_count": 6,
   "id": "6c434fd2",
   "metadata": {},
   "outputs": [
    {
     "name": "stdout",
     "output_type": "stream",
     "text": [
      "+-------------------+-----+----+----------+---------+------+---------------+-------+-------------------------+--------------------+--------------+------------------------------+----------+\n",
      "|               date|state|city|place_type|confirmed|deaths|order_for_place|is_last|estimated_population_2019|estimated_population|city_ibge_code|confirmed_per_100k_inhabitants|death_rate|\n",
      "+-------------------+-----+----+----------+---------+------+---------------+-------+-------------------------+--------------------+--------------+------------------------------+----------+\n",
      "|2022-03-27 00:00:00|   AP|null|     state|   160328|  2122|            734|   true|                   845731|              861773|            16|                   18604.43527|    0.0132|\n",
      "|2022-03-26 00:00:00|   AP|null|     state|   160321|  2122|            733|  false|                   845731|              861773|            16|                     18603.623|    0.0132|\n",
      "|2022-03-25 00:00:00|   AP|null|     state|   160314|  2122|            732|  false|                   845731|              861773|            16|                   18602.81072|    0.0132|\n",
      "|2022-03-24 00:00:00|   AP|null|     state|   160301|  2122|            731|  false|                   845731|              861773|            16|                    18601.3022|    0.0132|\n",
      "|2022-03-23 00:00:00|   AP|null|     state|   160288|  2122|            730|  false|                   845731|              861773|            16|                   18599.79368|    0.0132|\n",
      "+-------------------+-----+----+----------+---------+------+---------------+-------+-------------------------+--------------------+--------------+------------------------------+----------+\n",
      "only showing top 5 rows\n",
      "\n"
     ]
    }
   ],
   "source": [
    "df.show(5)"
   ]
  },
  {
   "cell_type": "code",
   "execution_count": null,
   "id": "80bf316f",
   "metadata": {},
   "outputs": [],
   "source": []
  }
 ],
 "metadata": {
  "kernelspec": {
   "display_name": "Python 3 (ipykernel)",
   "language": "python",
   "name": "python3"
  },
  "language_info": {
   "codemirror_mode": {
    "name": "ipython",
    "version": 3
   },
   "file_extension": ".py",
   "mimetype": "text/x-python",
   "name": "python",
   "nbconvert_exporter": "python",
   "pygments_lexer": "ipython3",
   "version": "3.11.3"
  }
 },
 "nbformat": 4,
 "nbformat_minor": 5
}
